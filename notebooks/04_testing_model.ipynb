{
 "cells": [
  {
   "cell_type": "markdown",
   "id": "ce9b74b1-c9e8-4a07-a6e7-c956809c6a91",
   "metadata": {},
   "source": [
    "## 4 Testing Model<a id='4_Testing_Model'></a>"
   ]
  },
  {
   "cell_type": "markdown",
   "id": "4469e550-3d94-4830-a4fc-464adfb12b98",
   "metadata": {},
   "source": [
    "## 4.1 Contents<a id='4.1_Contents'></a>\n",
    "* [4 Modeling](#4_Modeling)\n",
    "  * [4.1 Contents](#4.1_Contents)\n",
    "  * [4.2 Introduction](#4.2_Introduction)\n",
    "  * [4.3 Imports](#4.3_Imports)\n",
    "  * [4.4 Load The Model](#4.4_Load_The_Model)\n",
    "  * [4.5 Predicting Parameters](#4.5_Predicting_Parameters)"
   ]
  },
  {
   "cell_type": "markdown",
   "id": "5056c961-a5dd-4e47-ad3a-5f628eadba5c",
   "metadata": {},
   "source": [
    "## 4.2 Introduction<a id='4.2_Introduction'></a>"
   ]
  },
  {
   "cell_type": "markdown",
   "id": "0f057338-0337-4d0d-afc8-8a967e4e6ee3",
   "metadata": {},
   "source": [
    "We will finally be testing out our model in recreating an audio sample with a synthesizer!"
   ]
  },
  {
   "cell_type": "markdown",
   "id": "3340c774-4da0-4ffc-9909-9e3624a281a9",
   "metadata": {},
   "source": [
    "## 4.3 Imports<a id='4.3_Imports'></a>"
   ]
  },
  {
   "cell_type": "code",
   "execution_count": 1,
   "id": "026a6272",
   "metadata": {},
   "outputs": [
    {
     "name": "stderr",
     "output_type": "stream",
     "text": [
      "C:\\Users\\notis\\anaconda3\\lib\\site-packages\\torch_lr_finder\\lr_finder.py:5: TqdmExperimentalWarning: Using `tqdm.autonotebook.tqdm` in notebook mode. Use `tqdm.tqdm` instead to force console mode (e.g. in jupyter console)\n",
      "  from tqdm.autonotebook import tqdm\n"
     ]
    }
   ],
   "source": [
    "import os\n",
    "import pandas as pd\n",
    "import numpy as np\n",
    "import math, random\n",
    "import torch\n",
    "import torchaudio\n",
    "from torchaudio import transforms\n",
    "from IPython.display import Audio\n",
    "from torch.utils.data import DataLoader, Dataset, random_split\n",
    "import torch.nn as nn\n",
    "import torch.nn.functional as F\n",
    "from torch.nn import init\n",
    "import torch.optim as optim\n",
    "from torch_lr_finder import LRFinder\n",
    "import dawdreamer as daw\n",
    "\n",
    "import warnings\n",
    "warnings.filterwarnings(\"ignore\")"
   ]
  },
  {
   "cell_type": "code",
   "execution_count": 14,
   "id": "9c28ba9f",
   "metadata": {},
   "outputs": [],
   "source": [
    "combined_data = pd.read_csv('../data/interim/prediction.csv',index_col=0).reset_index()"
   ]
  },
  {
   "cell_type": "code",
   "execution_count": 15,
   "id": "0e329c3a",
   "metadata": {},
   "outputs": [
    {
     "data": {
      "text/html": [
       "<div>\n",
       "<style scoped>\n",
       "    .dataframe tbody tr th:only-of-type {\n",
       "        vertical-align: middle;\n",
       "    }\n",
       "\n",
       "    .dataframe tbody tr th {\n",
       "        vertical-align: top;\n",
       "    }\n",
       "\n",
       "    .dataframe thead th {\n",
       "        text-align: right;\n",
       "    }\n",
       "</style>\n",
       "<table border=\"1\" class=\"dataframe\">\n",
       "  <thead>\n",
       "    <tr style=\"text-align: right;\">\n",
       "      <th></th>\n",
       "      <th>Parameters</th>\n",
       "      <th>Values</th>\n",
       "    </tr>\n",
       "  </thead>\n",
       "  <tbody>\n",
       "    <tr>\n",
       "      <th>0</th>\n",
       "      <td>MasterVol</td>\n",
       "      <td>0.662135</td>\n",
       "    </tr>\n",
       "    <tr>\n",
       "      <th>1</th>\n",
       "      <td>A Vol</td>\n",
       "      <td>0.581757</td>\n",
       "    </tr>\n",
       "    <tr>\n",
       "      <th>2</th>\n",
       "      <td>A Pan</td>\n",
       "      <td>0.493456</td>\n",
       "    </tr>\n",
       "    <tr>\n",
       "      <th>3</th>\n",
       "      <td>A Octave</td>\n",
       "      <td>0.401332</td>\n",
       "    </tr>\n",
       "    <tr>\n",
       "      <th>4</th>\n",
       "      <td>A Semi</td>\n",
       "      <td>0.504878</td>\n",
       "    </tr>\n",
       "  </tbody>\n",
       "</table>\n",
       "</div>"
      ],
      "text/plain": [
       "  Parameters    Values\n",
       "0  MasterVol  0.662135\n",
       "1      A Vol  0.581757\n",
       "2      A Pan  0.493456\n",
       "3   A Octave  0.401332\n",
       "4     A Semi  0.504878"
      ]
     },
     "execution_count": 15,
     "metadata": {},
     "output_type": "execute_result"
    }
   ],
   "source": [
    "combined_data.head()"
   ]
  },
  {
   "cell_type": "markdown",
   "id": "a610671e-dfef-42b3-8f88-517231d4d5b9",
   "metadata": {},
   "source": [
    "## 4.4 Loading Into Serum<a id='4.4_Loading_Into_Serum'></a>"
   ]
  },
  {
   "cell_type": "code",
   "execution_count": 7,
   "id": "6c2bd61f-070a-47f3-80b0-7c28bc247f09",
   "metadata": {},
   "outputs": [
    {
     "data": {
      "text/plain": [
       "True"
      ]
     },
     "execution_count": 7,
     "metadata": {},
     "output_type": "execute_result"
    }
   ],
   "source": [
    "SAMPLE_RATE = 44100\n",
    "BUFFER_SIZE = 128 # Parameters will undergo automation at this buffer/block size.\n",
    "SYNTH_PLUGIN = \"C:/Program Files/VSTPlugIns/Serum_x64.dll\" # extensions: .dll, .vst3, .vst, .component\n",
    "\n",
    "engine = daw.RenderEngine(SAMPLE_RATE, BUFFER_SIZE)\n",
    "\n",
    "# Make a processor and give it the unique name \"my_synth\", for later use.\n",
    "synth = engine.make_plugin_processor(\"my_synth\", SYNTH_PLUGIN)\n",
    "assert synth.get_name() == \"my_synth\"\n",
    "\n",
    "synth.load_preset('C:/Users/notis/Documents/Xfer/Serum Presets/Presets/Bass/BA Ampology [CFA].fxp')\n",
    "\n",
    "# synth.open_editor()"
   ]
  },
  {
   "cell_type": "code",
   "execution_count": 8,
   "id": "52d427b7",
   "metadata": {},
   "outputs": [],
   "source": [
    "parameters_df = pd.DataFrame(synth.get_parameters_description())\n",
    "\n",
    "parameters = parameters_df['name']"
   ]
  },
  {
   "cell_type": "code",
   "execution_count": 16,
   "id": "43f4fabf",
   "metadata": {},
   "outputs": [
    {
     "name": "stdout",
     "output_type": "stream",
     "text": [
      "['Delta', 'DRY', 'Spin Depth', 'Wet', 'WT', 'Decay', 'OCTAVES', 'PITCH DOWN', 'Spin Rate']\n"
     ]
    }
   ],
   "source": [
    "set1 = set(list(combined_data['Parameters']))\n",
    "set2 = set(parameters)\n",
    "\n",
    "difference = set1 - set2\n",
    "\n",
    "difference_list = list(difference)\n",
    "\n",
    "print(difference_list)"
   ]
  },
  {
   "cell_type": "code",
   "execution_count": 22,
   "id": "97950a84",
   "metadata": {},
   "outputs": [],
   "source": [
    "columns_to_check = ['Delta', 'DRY', 'Spin Depth', 'Wet', 'WT', 'Decay', 'OCTAVES', 'PITCH DOWN', 'Spin Rate']"
   ]
  },
  {
   "cell_type": "code",
   "execution_count": 23,
   "id": "e9aad227",
   "metadata": {},
   "outputs": [],
   "source": [
    "pre_processed_data = pd.read_csv('../data/interim/combined_data.csv',index_col=0)"
   ]
  },
  {
   "cell_type": "code",
   "execution_count": 25,
   "id": "4e3c1f7d",
   "metadata": {},
   "outputs": [
    {
     "data": {
      "text/html": [
       "<div>\n",
       "<style scoped>\n",
       "    .dataframe tbody tr th:only-of-type {\n",
       "        vertical-align: middle;\n",
       "    }\n",
       "\n",
       "    .dataframe tbody tr th {\n",
       "        vertical-align: top;\n",
       "    }\n",
       "\n",
       "    .dataframe thead th {\n",
       "        text-align: right;\n",
       "    }\n",
       "</style>\n",
       "<table border=\"1\" class=\"dataframe\">\n",
       "  <thead>\n",
       "    <tr style=\"text-align: right;\">\n",
       "      <th></th>\n",
       "      <th>Delta</th>\n",
       "      <th>DRY</th>\n",
       "      <th>Spin Depth</th>\n",
       "      <th>Wet</th>\n",
       "      <th>WT</th>\n",
       "      <th>Decay</th>\n",
       "      <th>OCTAVES</th>\n",
       "      <th>PITCH DOWN</th>\n",
       "      <th>Spin Rate</th>\n",
       "    </tr>\n",
       "  </thead>\n",
       "  <tbody>\n",
       "    <tr>\n",
       "      <th>count</th>\n",
       "      <td>1002.0</td>\n",
       "      <td>1002.000000</td>\n",
       "      <td>1002.000000</td>\n",
       "      <td>1002.0</td>\n",
       "      <td>1002.000000</td>\n",
       "      <td>1002.000000</td>\n",
       "      <td>1002.000000</td>\n",
       "      <td>1002.000000</td>\n",
       "      <td>1002.000000</td>\n",
       "    </tr>\n",
       "    <tr>\n",
       "      <th>mean</th>\n",
       "      <td>0.0</td>\n",
       "      <td>0.097904</td>\n",
       "      <td>0.604361</td>\n",
       "      <td>1.0</td>\n",
       "      <td>0.143064</td>\n",
       "      <td>0.216617</td>\n",
       "      <td>0.111806</td>\n",
       "      <td>0.172705</td>\n",
       "      <td>0.279591</td>\n",
       "    </tr>\n",
       "    <tr>\n",
       "      <th>std</th>\n",
       "      <td>0.0</td>\n",
       "      <td>0.261259</td>\n",
       "      <td>0.400123</td>\n",
       "      <td>0.0</td>\n",
       "      <td>0.309225</td>\n",
       "      <td>0.161284</td>\n",
       "      <td>0.277336</td>\n",
       "      <td>0.331195</td>\n",
       "      <td>0.129233</td>\n",
       "    </tr>\n",
       "    <tr>\n",
       "      <th>min</th>\n",
       "      <td>0.0</td>\n",
       "      <td>0.000000</td>\n",
       "      <td>0.000000</td>\n",
       "      <td>1.0</td>\n",
       "      <td>0.000000</td>\n",
       "      <td>0.000000</td>\n",
       "      <td>0.000000</td>\n",
       "      <td>0.000000</td>\n",
       "      <td>0.000000</td>\n",
       "    </tr>\n",
       "    <tr>\n",
       "      <th>25%</th>\n",
       "      <td>0.0</td>\n",
       "      <td>0.000000</td>\n",
       "      <td>0.200000</td>\n",
       "      <td>1.0</td>\n",
       "      <td>0.000000</td>\n",
       "      <td>0.120000</td>\n",
       "      <td>0.000000</td>\n",
       "      <td>0.000000</td>\n",
       "      <td>0.250000</td>\n",
       "    </tr>\n",
       "    <tr>\n",
       "      <th>50%</th>\n",
       "      <td>0.0</td>\n",
       "      <td>0.000000</td>\n",
       "      <td>0.765000</td>\n",
       "      <td>1.0</td>\n",
       "      <td>0.000000</td>\n",
       "      <td>0.140000</td>\n",
       "      <td>0.000000</td>\n",
       "      <td>0.000000</td>\n",
       "      <td>0.250000</td>\n",
       "    </tr>\n",
       "    <tr>\n",
       "      <th>75%</th>\n",
       "      <td>0.0</td>\n",
       "      <td>0.000000</td>\n",
       "      <td>1.000000</td>\n",
       "      <td>1.0</td>\n",
       "      <td>0.000000</td>\n",
       "      <td>0.350000</td>\n",
       "      <td>0.000000</td>\n",
       "      <td>0.150000</td>\n",
       "      <td>0.280000</td>\n",
       "    </tr>\n",
       "    <tr>\n",
       "      <th>max</th>\n",
       "      <td>0.0</td>\n",
       "      <td>1.000000</td>\n",
       "      <td>1.000000</td>\n",
       "      <td>1.0</td>\n",
       "      <td>1.000000</td>\n",
       "      <td>1.000000</td>\n",
       "      <td>1.000000</td>\n",
       "      <td>1.000000</td>\n",
       "      <td>1.000000</td>\n",
       "    </tr>\n",
       "  </tbody>\n",
       "</table>\n",
       "</div>"
      ],
      "text/plain": [
       "        Delta          DRY   Spin Depth     Wet           WT        Decay  \\\n",
       "count  1002.0  1002.000000  1002.000000  1002.0  1002.000000  1002.000000   \n",
       "mean      0.0     0.097904     0.604361     1.0     0.143064     0.216617   \n",
       "std       0.0     0.261259     0.400123     0.0     0.309225     0.161284   \n",
       "min       0.0     0.000000     0.000000     1.0     0.000000     0.000000   \n",
       "25%       0.0     0.000000     0.200000     1.0     0.000000     0.120000   \n",
       "50%       0.0     0.000000     0.765000     1.0     0.000000     0.140000   \n",
       "75%       0.0     0.000000     1.000000     1.0     0.000000     0.350000   \n",
       "max       0.0     1.000000     1.000000     1.0     1.000000     1.000000   \n",
       "\n",
       "           OCTAVES   PITCH DOWN    Spin Rate  \n",
       "count  1002.000000  1002.000000  1002.000000  \n",
       "mean      0.111806     0.172705     0.279591  \n",
       "std       0.277336     0.331195     0.129233  \n",
       "min       0.000000     0.000000     0.000000  \n",
       "25%       0.000000     0.000000     0.250000  \n",
       "50%       0.000000     0.000000     0.250000  \n",
       "75%       0.000000     0.150000     0.280000  \n",
       "max       1.000000     1.000000     1.000000  "
      ]
     },
     "execution_count": 25,
     "metadata": {},
     "output_type": "execute_result"
    }
   ],
   "source": [
    "pre_processed_data[columns_to_check].describe()"
   ]
  },
  {
   "cell_type": "code",
   "execution_count": 28,
   "id": "734a4cda",
   "metadata": {},
   "outputs": [
    {
     "data": {
      "image/png": "[encoded data removed]",
      "text/plain": [
       "<Figure size 1500x1000 with 9 Axes>"
      ]
     },
     "metadata": {},
     "output_type": "display_data"
    }
   ],
   "source": [
    "pre_processed_data[columns_to_check].hist(figsize=(15,10));"
   ]
  },
  {
   "cell_type": "code",
   "execution_count": 17,
   "id": "c8203ba1",
   "metadata": {},
   "outputs": [
    {
     "name": "stdout",
     "output_type": "stream",
     "text": [
      "['VerbWdth', 'Phaser', 'VerbPDly', 'LP Filter', 'FX off', 'VerbDamp', 'Notch filter']\n"
     ]
    }
   ],
   "source": [
    "set1 = set(list(combined_data['Parameters']))\n",
    "set2 = set(parameters)\n",
    "\n",
    "difference = set2 - set1\n",
    "\n",
    "difference_list = list(difference)\n",
    "\n",
    "print(difference_list)"
   ]
  },
  {
   "cell_type": "code",
   "execution_count": 29,
   "id": "08df7f2f",
   "metadata": {},
   "outputs": [],
   "source": [
    "from difflib import get_close_matches\n",
    "\n",
    "# Normalize case\n",
    "normalized_columns = {col.lower(): col for col in combined_data.columns}\n",
    "normalized_parameters = [param.lower() for param in parameters]\n",
    "\n",
    "# Find exact matches\n",
    "exact_matches = set(normalized_parameters).intersection(normalized_columns.keys())"
   ]
  },
  {
   "cell_type": "code",
   "execution_count": 31,
   "id": "fe3f83f4",
   "metadata": {},
   "outputs": [
    {
     "data": {
      "text/html": [
       "<div>\n",
       "<style scoped>\n",
       "    .dataframe tbody tr th:only-of-type {\n",
       "        vertical-align: middle;\n",
       "    }\n",
       "\n",
       "    .dataframe tbody tr th {\n",
       "        vertical-align: top;\n",
       "    }\n",
       "\n",
       "    .dataframe thead th {\n",
       "        text-align: right;\n",
       "    }\n",
       "</style>\n",
       "<table border=\"1\" class=\"dataframe\">\n",
       "  <thead>\n",
       "    <tr style=\"text-align: right;\">\n",
       "      <th></th>\n",
       "    </tr>\n",
       "  </thead>\n",
       "  <tbody>\n",
       "  </tbody>\n",
       "</table>\n",
       "</div>"
      ],
      "text/plain": [
       "Empty DataFrame\n",
       "Columns: []\n",
       "Index: []"
      ]
     },
     "execution_count": 31,
     "metadata": {},
     "output_type": "execute_result"
    }
   ],
   "source": [
    "# Retrieve the parameter descriptions\n",
    "parameters_description = synth.get_parameters_description()\n",
    "\n",
    "# Create a dictionary mapping parameter names (lowercase) to their indices\n",
    "parameter_indices = {param['name'].lower(): param['index'] for param in parameters_description}\n",
    "\n",
    "# Get the indices for the matching parameters\n",
    "matching_indices = {param: parameter_indices[param] for param in exact_matches if param in parameter_indices}\n",
    "\n",
    "# Convert the dictionary to a list of dictionaries for DataFrame creation\n",
    "parameters_list = [{'parameter': param, 'index': idx} for param, idx in matching_indices.items()]\n",
    "\n",
    "# Create DataFrame\n",
    "parameters_df = pd.DataFrame(parameters_list).reset_index(drop=True)\n",
    "\n",
    "parameters_df.head()"
   ]
  },
  {
   "cell_type": "code",
   "execution_count": null,
   "id": "d7b743b7-343f-44d3-8355-9d1716002989",
   "metadata": {},
   "outputs": [],
   "source": [
    "# Load Serum\n",
    "serum_path = \"C:/Program Files/VSTPlugIns/Vinyl House Drums.vst3\"\n",
    "synth_plugin = load_plugin(serum_path)\n",
    "\n",
    "# Print the plugin to verify it's loaded correctly\n",
    "print(synth_plugin)"
   ]
  },
  {
   "cell_type": "code",
   "execution_count": null,
   "id": "4f41b0eb-5579-43ef-9b1b-2b1174bc8876",
   "metadata": {},
   "outputs": [],
   "source": []
  }
 ],
 "metadata": {
  "kernelspec": {
   "display_name": "Python 3 (ipykernel)",
   "language": "python",
   "name": "python3"
  },
  "language_info": {
   "codemirror_mode": {
    "name": "ipython",
    "version": 3
   },
   "file_extension": ".py",
   "mimetype": "text/x-python",
   "name": "python",
   "nbconvert_exporter": "python",
   "pygments_lexer": "ipython3",
   "version": "3.10.9"
  }
 },
 "nbformat": 4,
 "nbformat_minor": 5
}
